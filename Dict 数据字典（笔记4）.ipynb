{
 "cells": [
  {
   "cell_type": "markdown",
   "metadata": {},
   "source": [
    "dict 字典"
   ]
  },
  {
   "cell_type": "code",
   "execution_count": 63,
   "metadata": {},
   "outputs": [],
   "source": [
    "    def twoSum(self, nums, target):\n",
    "        \"\"\"\n",
    "        :type nums: List[int]\n",
    "        :type target: int\n",
    "        :rtype: List[int]\n",
    "        \"\"\"\n",
    "        dict1 = {}\n",
    "        for i in range(len(nums)):               # i is indices of the list\n",
    "            if target-nums[i] not in dict1:\n",
    "                dict1[nums[i]]=i #??\n",
    "            else:\n",
    "                return [dict1[target-nums[i]],i] #[差的index, i: 减数的index]"
   ]
  },
  {
   "cell_type": "code",
   "execution_count": 64,
   "metadata": {},
   "outputs": [
    {
     "data": {
      "text/plain": [
       "[0, 1]"
      ]
     },
     "execution_count": 64,
     "metadata": {},
     "output_type": "execute_result"
    }
   ],
   "source": [
    "twoSum(0,[2,7,11,12],9)"
   ]
  },
  {
   "cell_type": "code",
   "execution_count": 65,
   "metadata": {},
   "outputs": [],
   "source": [
    "## others\n",
    "def twoSum(self, nums, target):\n",
    "        seen = {} # dict, 创建空字典\n",
    "  \n",
    "        for i, v in enumerate(nums):\n",
    "            remaining = target - v\n",
    "            if remaining in seen:\n",
    "                return [seen[remaining], i]\n",
    "            seen[v] = i \n",
    "        return []\n",
    "    "
   ]
  },
  {
   "cell_type": "code",
   "execution_count": 66,
   "metadata": {},
   "outputs": [
    {
     "data": {
      "text/plain": [
       "[0, 1]"
      ]
     },
     "execution_count": 66,
     "metadata": {},
     "output_type": "execute_result"
    }
   ],
   "source": [
    "twoSum(1,[2,7,11,12],9)"
   ]
  },
  {
   "cell_type": "code",
   "execution_count": 67,
   "metadata": {},
   "outputs": [],
   "source": [
    "nums=[2,7,11,12]"
   ]
  },
  {
   "cell_type": "code",
   "execution_count": 68,
   "metadata": {},
   "outputs": [
    {
     "data": {
      "text/plain": [
       "7"
      ]
     },
     "execution_count": 68,
     "metadata": {},
     "output_type": "execute_result"
    }
   ],
   "source": [
    "nums[1]"
   ]
  },
  {
   "cell_type": "code",
   "execution_count": 71,
   "metadata": {},
   "outputs": [
    {
     "data": {
      "text/plain": [
       "{1, 2, 3, 4}"
      ]
     },
     "execution_count": 71,
     "metadata": {},
     "output_type": "execute_result"
    }
   ],
   "source": [
    "dict2={1,2,3,4}\n",
    "dict2"
   ]
  },
  {
   "cell_type": "code",
   "execution_count": 74,
   "metadata": {},
   "outputs": [
    {
     "ename": "TypeError",
     "evalue": "'set' object does not support indexing",
     "output_type": "error",
     "traceback": [
      "\u001b[1;31m---------------------------------------------------------------------------\u001b[0m",
      "\u001b[1;31mTypeError\u001b[0m                                 Traceback (most recent call last)",
      "\u001b[1;32m<ipython-input-74-2d55433a3c0c>\u001b[0m in \u001b[0;36m<module>\u001b[1;34m()\u001b[0m\n\u001b[1;32m----> 1\u001b[1;33m \u001b[0mdict2\u001b[0m\u001b[1;33m[\u001b[0m\u001b[1;36m2\u001b[0m\u001b[1;33m]\u001b[0m\u001b[1;33m\u001b[0m\u001b[0m\n\u001b[0m",
      "\u001b[1;31mTypeError\u001b[0m: 'set' object does not support indexing"
     ]
    }
   ],
   "source": [
    "dict2[2]"
   ]
  },
  {
   "cell_type": "code",
   "execution_count": 31,
   "metadata": {},
   "outputs": [],
   "source": [
    " def twoSum(self, nums, target):\n",
    "        for i in range(len(nums)):               # i is indices of the list\n",
    "            if target-nums[i]  in nums:\n",
    "                  return [nums.index[target-nums[i]],i] "
   ]
  },
  {
   "cell_type": "code",
   "execution_count": 75,
   "metadata": {},
   "outputs": [
    {
     "data": {
      "text/plain": [
       "[0, 1]"
      ]
     },
     "execution_count": 75,
     "metadata": {},
     "output_type": "execute_result"
    }
   ],
   "source": [
    "twoSum(1,[2,7,11,12],9)"
   ]
  },
  {
   "cell_type": "markdown",
   "metadata": {},
   "source": [
    "# 数据字典"
   ]
  },
  {
   "cell_type": "markdown",
   "metadata": {},
   "source": [
    "字典(dictionary)是除列表之外python之中最灵活的内置数据结构类型。列表是有序的对象结合，字典是无序的对象集合。两者之间的区别在于：字典当中的元素是通过键来存取的，而不是通过偏移存取，这个键可以是数字、字符串甚至元组。映射可以使用任何不可变对象标识元素，最常用的类型是字符串和元组，python唯一内建的映射类型是字典。"
   ]
  },
  {
   "cell_type": "code",
   "execution_count": 44,
   "metadata": {},
   "outputs": [
    {
     "data": {
      "text/plain": [
       "'23453'"
      ]
     },
     "execution_count": 44,
     "metadata": {},
     "output_type": "execute_result"
    }
   ],
   "source": [
    "# 创建和使用字典\n",
    "phonebook={'Jason':'23453','James':'34231','Jzhou':'90798'}\n",
    "phonebook['Jason']"
   ]
  },
  {
   "cell_type": "markdown",
   "metadata": {},
   "source": [
    "字典由多个键和其对应的值构成的对组成（键值对称为项），上例中，姓名是键，分机号是值。每个键和它的值之间用冒号隔开，项之间用逗号隔开，整个字典用一对大括号括起来。\n",
    "\n",
    "（注意：字典中的键是唯一的，其它映射也是如此，而值不唯一）"
   ]
  },
  {
   "cell_type": "markdown",
   "metadata": {},
   "source": [
    "## dict函数"
   ]
  },
  {
   "cell_type": "code",
   "execution_count": 53,
   "metadata": {},
   "outputs": [
    {
     "data": {
      "text/plain": [
       "[('name', 'Gumby'), ('age', 42)]"
      ]
     },
     "execution_count": 53,
     "metadata": {},
     "output_type": "execute_result"
    }
   ],
   "source": [
    "# dict函数可以通过其他映射（比如其他字典）或者(键、值)这样的序列对建立字典\n",
    "items=[('name','Gumby'),('age',42)]\n",
    "items"
   ]
  },
  {
   "cell_type": "code",
   "execution_count": 78,
   "metadata": {},
   "outputs": [
    {
     "data": {
      "text/plain": [
       "{'name': 'Gumby', 'age': 42}"
      ]
     },
     "execution_count": 78,
     "metadata": {},
     "output_type": "execute_result"
    }
   ],
   "source": [
    "# del dict\n",
    "d=dict (items) # need be () not[]\n",
    "d"
   ]
  },
  {
   "cell_type": "code",
   "execution_count": 79,
   "metadata": {},
   "outputs": [
    {
     "data": {
      "text/plain": [
       "'Gumby'"
      ]
     },
     "execution_count": 79,
     "metadata": {},
     "output_type": "execute_result"
    }
   ],
   "source": [
    " d['name']"
   ]
  },
  {
   "cell_type": "code",
   "execution_count": 80,
   "metadata": {},
   "outputs": [
    {
     "data": {
      "text/plain": [
       "{'name': 'Jason', 'age': 42}"
      ]
     },
     "execution_count": 80,
     "metadata": {},
     "output_type": "execute_result"
    }
   ],
   "source": [
    "#dict函数也可以通过关键字参数来创建字典\n",
    "d=dict(name='Jason',age=42)\n",
    "d"
   ]
  },
  {
   "cell_type": "markdown",
   "metadata": {},
   "source": [
    "还能以映射作为dict函数的参数，以建立其项与映射相同的字典，如果不带任何参数，则dict函数返回一个新的空的字典，就行list,tuple,str等函数一样。如果另一个映射也是字典，可以使用字典方法copy(之后介绍)。"
   ]
  },
  {
   "cell_type": "markdown",
   "metadata": {},
   "source": [
    "## 基本的字典操作"
   ]
  },
  {
   "cell_type": "markdown",
   "metadata": {},
   "source": [
    "    字典的基本行为在很多方面和序列类似：\n",
    "\n",
    "　　len(d)  返回d中项（键-值对）的数量\n",
    "\n",
    "　　d[k]返回关联到键k上的值\n",
    "\n",
    "　　d[k]=v 将值v关联到键k上\n",
    "\n",
    "　　del  d[k]删除键为k的项\n",
    "\n",
    "　　k  in  d  检查中是否有含有键为k的项\n",
    "\n",
    "　　字典也有一些自己的特性，如下：\n",
    "\n",
    "　　　键类型：字典的键不一定为整型数据，也可能是其他不可变类型，如浮点型、字符串、元组等\n",
    "\n",
    "　　　自动添加：即使那个键起初不存在于字典中，也可以分配给它一个值，即字典会建立一个新项；而列表在不使用append方法的前提下，不能将值关联到列表之外的索引上\n",
    "\n",
    "　　　成员资格：表达式k  in  d(d为字典)查找的是键而不是值；表达式 v  in l(l为列表)则用来查找值，而不是索引（另外，在字典中检查键的成员资格比在列表中检查值的成员更高效，尤其当数据结构的规模很大时。）\n",
    "\n",
    "     我们来看一个简单的例子，来看看字典相对于列表的好处："
   ]
  },
  {
   "cell_type": "code",
   "execution_count": 81,
   "metadata": {},
   "outputs": [
    {
     "ename": "IndentationError",
     "evalue": "unexpected indent (<ipython-input-81-147c2235d0aa>, line 2)",
     "output_type": "error",
     "traceback": [
      "\u001b[1;36m  File \u001b[1;32m\"<ipython-input-81-147c2235d0aa>\"\u001b[1;36m, line \u001b[1;32m2\u001b[0m\n\u001b[1;33m    x[42]='floor'    #出现错误\u001b[0m\n\u001b[1;37m    ^\u001b[0m\n\u001b[1;31mIndentationError\u001b[0m\u001b[1;31m:\u001b[0m unexpected indent\n"
     ]
    }
   ],
   "source": [
    "x=[]   #创建一个空列表\n",
    " x[42]='floor'    #出现错误"
   ]
  },
  {
   "cell_type": "code",
   "execution_count": 82,
   "metadata": {},
   "outputs": [
    {
     "data": {
      "text/plain": [
       "{42: 'floor'}"
      ]
     },
     "execution_count": 82,
     "metadata": {},
     "output_type": "execute_result"
    }
   ],
   "source": [
    " x={}   #创建一个字典\n",
    "x[42]='floor'   #自动将这项添加到字典中\n",
    " x    #字典的值"
   ]
  },
  {
   "cell_type": "markdown",
   "metadata": {},
   "source": [
    "##  下面是一个较复杂的字典的示例："
   ]
  },
  {
   "cell_type": "code",
   "execution_count": 86,
   "metadata": {},
   "outputs": [],
   "source": [
    "# 使用人名作为键的字典，每个人用另一个字典来表示，phone和addr是子字典的键\n",
    "people ={\n",
    "     'Jason':{\n",
    "        'phone':'2341',\n",
    "        'addr':'Foo drive 23'\n",
    "         },\n",
    "     'James':{\n",
    "        'phone':'4564',\n",
    "        'addr':'Bar street 42'\n",
    "         },\n",
    "     'Jzhou':{\n",
    "        'phone':'4564',\n",
    "        'addr':'Baz avenue 90'\n",
    "         }\n",
    "    }\n",
    "\n"
   ]
  },
  {
   "cell_type": "code",
   "execution_count": 87,
   "metadata": {},
   "outputs": [
    {
     "name": "stdout",
     "output_type": "stream",
     "text": [
      "Name:James\n"
     ]
    }
   ],
   "source": [
    "# 针对电话号码和地址使用的描述性标签会在打印输出的时候用到\n",
    "labels={\n",
    "    'phone':'phone number',\n",
    "    'addr':'address'\n",
    "    }\n",
    "\n",
    "#name=raw_input('Name:') raw_input() was renamed to input()\n",
    "name=input('Name:')    ## 允许屏幕交互 输入信息"
   ]
  },
  {
   "cell_type": "code",
   "execution_count": 88,
   "metadata": {},
   "outputs": [
    {
     "name": "stdout",
     "output_type": "stream",
     "text": [
      "Phone number(p) or address(a)?a\n"
     ]
    }
   ],
   "source": [
    "# 查找电话号码还是地址？使用正确的键\n",
    "request=input (\"Phone number(p) or address(a)?\")\n",
    "# 使用正确的键：\n",
    "if request=='p':key='phone'\n",
    "if request=='a':key='addr'"
   ]
  },
  {
   "cell_type": "code",
   "execution_count": 121,
   "metadata": {},
   "outputs": [
    {
     "name": "stdout",
     "output_type": "stream",
     "text": [
      "James's' address is Bar street 42.\n",
      "press any key to exit!7\n"
     ]
    },
    {
     "data": {
      "text/plain": [
       "'7'"
      ]
     },
     "execution_count": 121,
     "metadata": {},
     "output_type": "execute_result"
    }
   ],
   "source": [
    "if name in people:     ###输出引用变量\n",
    "#     print \"%s's %s is %s.\" % (name,labels[key],people[name][key])   ############bug is here\n",
    "   print(\"{}'s' {} is {}.\".format(name, labels[key], people[name][key]))  ## {} leave a blank there, without considering variable types\n",
    "input(\"press any key to exit!\")"
   ]
  },
  {
   "cell_type": "markdown",
   "metadata": {},
   "source": [
    "## 字典的格式化字符串"
   ]
  },
  {
   "cell_type": "markdown",
   "metadata": {},
   "source": [
    "上一篇介绍过字符串是如何格式化的，现在我们来看看字典是如何格式化的。在每个转换说明符的后面，加上键再跟其他说明元素。看例子"
   ]
  },
  {
   "cell_type": "code",
   "execution_count": 122,
   "metadata": {},
   "outputs": [
    {
     "data": {
      "text/plain": [
       "{'James': '3422', 'Jason': '3441', 'Jzhou': '2321'}"
      ]
     },
     "execution_count": 122,
     "metadata": {},
     "output_type": "execute_result"
    }
   ],
   "source": [
    "phonebook={'James':'3422','Jason':'3441','Jzhou':'2321'}\n",
    "phonebook"
   ]
  },
  {
   "cell_type": "code",
   "execution_count": 123,
   "metadata": {},
   "outputs": [
    {
     "data": {
      "text/plain": [
       "\"Jzhou's phone number is 2321.\""
      ]
     },
     "execution_count": 123,
     "metadata": {},
     "output_type": "execute_result"
    }
   ],
   "source": [
    "\"Jzhou's phone number is %(Jzhou)s.\" % phonebook   ## 两种引用方式"
   ]
  },
  {
   "cell_type": "code",
   "execution_count": 128,
   "metadata": {},
   "outputs": [
    {
     "data": {
      "text/plain": [
       "\"Jzhou's phone number is 2321.\""
      ]
     },
     "execution_count": 128,
     "metadata": {},
     "output_type": "execute_result"
    }
   ],
   "source": [
    "\"Jzhou's phone number is {}.\" .format(phonebook[\"Jzhou\"])"
   ]
  },
  {
   "cell_type": "markdown",
   "metadata": {},
   "source": [
    "除了增加字符串键之外，转换说明符还是像以前一样，当以这种方式使用字典的时候，只要所有给出的键都能在字典中找到，就可以获得任意数量的转换说明符，所以这类字符串格式化在模板系统中非常有用，看下面这个例子："
   ]
  },
  {
   "cell_type": "code",
   "execution_count": 137,
   "metadata": {},
   "outputs": [
    {
     "data": {
      "text/plain": [
       "'<html>\\n<head><title>%(title)s</title></head>\\n<body>\\n<h1>%(title)s<h1>\\n<p>%(text)s</p>\\n</body>'"
      ]
     },
     "execution_count": 137,
     "metadata": {},
     "output_type": "execute_result"
    }
   ],
   "source": [
    "template='''<html>\n",
    "<head><title>%(title)s</title></head>\n",
    "<body>\n",
    "<h1>%(title)s<h1>\n",
    "<p>%(text)s</p>\n",
    "</body>'''\n",
    "template    #type(template)  : str"
   ]
  },
  {
   "cell_type": "code",
   "execution_count": 135,
   "metadata": {},
   "outputs": [
    {
     "data": {
      "text/plain": [
       "{'title': 'my home page', 'text': 'Welcome to my home age!'}"
      ]
     },
     "execution_count": 135,
     "metadata": {},
     "output_type": "execute_result"
    }
   ],
   "source": [
    "data={'title':'my home page','text':'Welcome to my home age!'}  # dict\n",
    "data"
   ]
  },
  {
   "cell_type": "code",
   "execution_count": 142,
   "metadata": {},
   "outputs": [
    {
     "name": "stdout",
     "output_type": "stream",
     "text": [
      "<html>\n",
      "<head><title>my home page</title></head>\n",
      "<body>\n",
      "<h1>my home page<h1>\n",
      "<p>Welcome to my home age!</p>\n",
      "</body>\n"
     ]
    }
   ],
   "source": [
    "print (template % data) # 记得print加括号      批量制作，引用，替换。。。。"
   ]
  },
  {
   "cell_type": "code",
   "execution_count": 144,
   "metadata": {},
   "outputs": [
    {
     "data": {
      "text/plain": [
       "str"
      ]
     },
     "execution_count": 144,
     "metadata": {},
     "output_type": "execute_result"
    }
   ],
   "source": [
    "type(template % data)"
   ]
  },
  {
   "cell_type": "markdown",
   "metadata": {},
   "source": [
    "## 字典方法"
   ]
  },
  {
   "cell_type": "markdown",
   "metadata": {},
   "source": [
    "###  clear——清除字典中的所有项。类似于list.sort，无返回值"
   ]
  },
  {
   "cell_type": "code",
   "execution_count": 146,
   "metadata": {},
   "outputs": [
    {
     "data": {
      "text/plain": [
       "{'name': 'Jason', 'age': 42}"
      ]
     },
     "execution_count": 146,
     "metadata": {},
     "output_type": "execute_result"
    }
   ],
   "source": [
    "d={}  #字典可以任意赋值\n",
    "d['name']='Jason'\n",
    "d['age']=42\n",
    "d"
   ]
  },
  {
   "cell_type": "code",
   "execution_count": 147,
   "metadata": {},
   "outputs": [
    {
     "data": {
      "text/plain": [
       "{}"
      ]
     },
     "execution_count": 147,
     "metadata": {},
     "output_type": "execute_result"
    }
   ],
   "source": [
    " return_value=d.clear()\n",
    "d"
   ]
  },
  {
   "cell_type": "code",
   "execution_count": 149,
   "metadata": {},
   "outputs": [
    {
     "name": "stdout",
     "output_type": "stream",
     "text": [
      "None\n"
     ]
    }
   ],
   "source": [
    "print (return_value) # 无返回值"
   ]
  },
  {
   "cell_type": "markdown",
   "metadata": {},
   "source": [
    "  通过下面的例子看一下clear的简单作用："
   ]
  },
  {
   "cell_type": "code",
   "execution_count": 157,
   "metadata": {},
   "outputs": [
    {
     "ename": "IndentationError",
     "evalue": "unexpected indent (<ipython-input-157-614066ddc3de>, line 5)",
     "output_type": "error",
     "traceback": [
      "\u001b[1;36m  File \u001b[1;32m\"<ipython-input-157-614066ddc3de>\"\u001b[1;36m, line \u001b[1;32m5\u001b[0m\n\u001b[1;33m    x={}\u001b[0m\n\u001b[1;37m    ^\u001b[0m\n\u001b[1;31mIndentationError\u001b[0m\u001b[1;31m:\u001b[0m unexpected indent\n"
     ]
    }
   ],
   "source": [
    "#未使用clear方法\n",
    "#  x={}   #创建一个字典\n",
    "# x[42]='floor'   #自动将这项添加到字典中\n",
    "#  x    #字典的值\n",
    " x={}"
   ]
  },
  {
   "cell_type": "code",
   "execution_count": 159,
   "metadata": {},
   "outputs": [
    {
     "data": {
      "text/plain": [
       "{42: 'floor'}"
      ]
     },
     "execution_count": 159,
     "metadata": {},
     "output_type": "execute_result"
    }
   ],
   "source": [
    "y=x\n",
    "y"
   ]
  },
  {
   "cell_type": "code",
   "execution_count": 164,
   "metadata": {},
   "outputs": [
    {
     "data": {
      "text/plain": [
       "{42: 'floor', 'key': 'value'}"
      ]
     },
     "execution_count": 164,
     "metadata": {},
     "output_type": "execute_result"
    }
   ],
   "source": [
    "x['key']='value'\n",
    "y"
   ]
  },
  {
   "cell_type": "code",
   "execution_count": 163,
   "metadata": {},
   "outputs": [
    {
     "data": {
      "text/plain": [
       "{42: 'floor', 'key': 'value'}"
      ]
     },
     "execution_count": 163,
     "metadata": {},
     "output_type": "execute_result"
    }
   ],
   "source": [
    " x={}\n",
    "y    #x使用x={}置空后y的值还存在， x={}置空x了\n"
   ]
  },
  {
   "cell_type": "code",
   "execution_count": 166,
   "metadata": {},
   "outputs": [
    {
     "data": {
      "text/plain": [
       "{'key': 'value'}"
      ]
     },
     "execution_count": 166,
     "metadata": {},
     "output_type": "execute_result"
    }
   ],
   "source": [
    "#使用clear方法\n",
    ">>> x={}\n",
    ">>> y=x\n",
    ">>> x['key']='value'\n",
    ">>> y"
   ]
  },
  {
   "cell_type": "code",
   "execution_count": 167,
   "metadata": {},
   "outputs": [
    {
     "data": {
      "text/plain": [
       "{}"
      ]
     },
     "execution_count": 167,
     "metadata": {},
     "output_type": "execute_result"
    }
   ],
   "source": [
    ">>> x.clear()  #x使用clear方法后,y的值也被清空了\n",
    ">>> y\n",
    "{}"
   ]
  },
  {
   "cell_type": "markdown",
   "metadata": {},
   "source": [
    "### copy——返回一个具有相同键值对的新字典（实现的是浅复制，因为值本身相同，而不是副本）"
   ]
  },
  {
   "cell_type": "code",
   "execution_count": 168,
   "metadata": {},
   "outputs": [
    {
     "data": {
      "text/plain": [
       "{'username': 'mlh', 'machines': ['foo', 'baz']}"
      ]
     },
     "execution_count": 168,
     "metadata": {},
     "output_type": "execute_result"
    }
   ],
   "source": [
    ">>> x={'username':'admin','machines':['foo','bar','baz']}\n",
    ">>> y=x.copy()  ## y copy x的值\n",
    ">>> y['username']='mlh' ## change value or remove value\n",
    ">>> y['machines'].remove ('bar')\n",
    ">>> y  #y直接复制了x的内容，可以做更改\n"
   ]
  },
  {
   "cell_type": "code",
   "execution_count": 169,
   "metadata": {},
   "outputs": [
    {
     "data": {
      "text/plain": [
       "{'username': 'admin', 'machines': ['foo', 'baz']}"
      ]
     },
     "execution_count": 169,
     "metadata": {},
     "output_type": "execute_result"
    }
   ],
   "source": [
    ">>> x  #替换不改变原字典，但移除也会移除原字典"
   ]
  },
  {
   "cell_type": "markdown",
   "metadata": {},
   "source": [
    "上例看出，当在副本中替换值的时候，原字典不受影响，想上述y中username赋了新值，而x没变；但是如果修改了某个值而不是替换，则原字典也会改变，像上述y的machines中移除了bar，则x中也移除了这个值。\n",
    "\n",
    "　　避免这个问题的方法是使用深复制（deep copy）,复制它包含所有的值。使用copy模块的deepcopy函数来完成"
   ]
  },
  {
   "cell_type": "code",
   "execution_count": 170,
   "metadata": {},
   "outputs": [
    {
     "data": {
      "text/plain": [
       "{'names': ['James', 'Jason', 'Jzhou']}"
      ]
     },
     "execution_count": 170,
     "metadata": {},
     "output_type": "execute_result"
    }
   ],
   "source": [
    ">>> from copy import deepcopy\n",
    ">>> d={}\n",
    ">>> d['names']=['James','Jason']\n",
    ">>> c=d.copy()\n",
    ">>> dc=deepcopy(d) #深复制（deep copy）,复制它包含所有的值\n",
    ">>> d['names'].append('Jzhou') #改变原字典\n",
    ">>> c   #c是一般复制，原字典d变化（增加  减少）引起自己变化"
   ]
  },
  {
   "cell_type": "code",
   "execution_count": 171,
   "metadata": {},
   "outputs": [
    {
     "data": {
      "text/plain": [
       "{'names': ['James', 'Jason']}"
      ]
     },
     "execution_count": 171,
     "metadata": {},
     "output_type": "execute_result"
    }
   ],
   "source": [
    ">>> dc #dc是d的深复制，d后来变化不影响dc"
   ]
  },
  {
   "cell_type": "markdown",
   "metadata": {},
   "source": [
    "## fromkeys——使用给定的键建立新的字典，每个键默认对应的值为None"
   ]
  },
  {
   "cell_type": "code",
   "execution_count": 172,
   "metadata": {},
   "outputs": [
    {
     "data": {
      "text/plain": [
       "{'name': None, 'age': None}"
      ]
     },
     "execution_count": 172,
     "metadata": {},
     "output_type": "execute_result"
    }
   ],
   "source": [
    " {}.fromkeys(['name','age'])  #构造了有一个空字典来建立另外一个字典"
   ]
  },
  {
   "cell_type": "markdown",
   "metadata": {},
   "source": [
    "## get——得到字典中的某个项"
   ]
  },
  {
   "cell_type": "code",
   "execution_count": 6,
   "metadata": {},
   "outputs": [
    {
     "ename": "KeyError",
     "evalue": "'name'",
     "output_type": "error",
     "traceback": [
      "\u001b[1;31m---------------------------------------------------------------------------\u001b[0m",
      "\u001b[1;31mKeyError\u001b[0m                                  Traceback (most recent call last)",
      "\u001b[1;32m<ipython-input-6-ad5ae23d3f32>\u001b[0m in \u001b[0;36m<module>\u001b[1;34m()\u001b[0m\n\u001b[0;32m      1\u001b[0m \u001b[1;31m#一般当是视图得到字典中不存在的项时将出错\u001b[0m\u001b[1;33m\u001b[0m\u001b[1;33m\u001b[0m\u001b[0m\n\u001b[0;32m      2\u001b[0m \u001b[0md\u001b[0m\u001b[1;33m=\u001b[0m\u001b[1;33m{\u001b[0m\u001b[1;33m}\u001b[0m\u001b[1;33m\u001b[0m\u001b[0m\n\u001b[1;32m----> 3\u001b[1;33m \u001b[0mprint\u001b[0m \u001b[1;33m(\u001b[0m\u001b[0md\u001b[0m\u001b[1;33m[\u001b[0m\u001b[1;34m'name'\u001b[0m\u001b[1;33m]\u001b[0m\u001b[1;33m)\u001b[0m\u001b[1;33m\u001b[0m\u001b[0m\n\u001b[0m",
      "\u001b[1;31mKeyError\u001b[0m: 'name'"
     ]
    }
   ],
   "source": [
    "#一般当是视图得到字典中不存在的项时将出错\n",
    ">>> d={}\n",
    ">>> print (d['name'])"
   ]
  },
  {
   "cell_type": "code",
   "execution_count": 176,
   "metadata": {},
   "outputs": [
    {
     "name": "stdout",
     "output_type": "stream",
     "text": [
      "None\n"
     ]
    }
   ],
   "source": [
    "#使用get方法时不会出错\n",
    ">>> print (d.get('name'))"
   ]
  },
  {
   "cell_type": "code",
   "execution_count": 8,
   "metadata": {},
   "outputs": [
    {
     "data": {
      "text/plain": [
       "'N/A'"
      ]
     },
     "execution_count": 8,
     "metadata": {},
     "output_type": "execute_result"
    }
   ],
   "source": [
    "#也可以自定义默认值来替换'None'\n",
    ">>> d.get('name','N/A')  #替换？？？"
   ]
  },
  {
   "cell_type": "code",
   "execution_count": 9,
   "metadata": {},
   "outputs": [
    {
     "data": {
      "text/plain": [
       "'Eric'"
      ]
     },
     "execution_count": 9,
     "metadata": {},
     "output_type": "execute_result"
    }
   ],
   "source": [
    "#如果键值存在，get用起来就像普通的字典查询一样\n",
    ">>> d['name']='Eric'\n",
    ">>> d.get('name')"
   ]
  },
  {
   "cell_type": "code",
   "execution_count": 10,
   "metadata": {},
   "outputs": [],
   "source": [
    "people ={\n",
    "     'Jason':{\n",
    "        'phone':'2341',\n",
    "        'addr':'Foo drive 23'\n",
    "         },\n",
    "     'James':{\n",
    "        'phone':'4564',\n",
    "        'addr':'Bar street 42'\n",
    "         }\n",
    "    }\n",
    "labels={\n",
    "    'phone':'phone number',\n",
    "    'addr':'address'\n",
    "    }\n"
   ]
  },
  {
   "cell_type": "code",
   "execution_count": 11,
   "metadata": {},
   "outputs": [
    {
     "name": "stdout",
     "output_type": "stream",
     "text": [
      "Name:Jasoooo\n",
      "phone number(p) or address(a)?a\n"
     ]
    }
   ],
   "source": [
    "name = input('Name:')\n",
    "#查找电话号码还是地址?\n",
    "request=input('phone number(p) or address(a)?')\n",
    "#使用正确的键; 该程序只能判断属性（值）输入错误的情况，不能判断姓名（键）输入错误的情况\n",
    "key=request\n",
    "if request =='p':key='phone'\n",
    "if request =='a':key='addr'\n"
   ]
  },
  {
   "cell_type": "code",
   "execution_count": 12,
   "metadata": {},
   "outputs": [],
   "source": [
    "person=people.get(name,{})   \n",
    "label=labels.get(key,key)\n",
    "#使用get()提供的默认值\n",
    "result=person.get('key','not available')"
   ]
  },
  {
   "cell_type": "code",
   "execution_count": 13,
   "metadata": {},
   "outputs": [
    {
     "name": "stdout",
     "output_type": "stream",
     "text": [
      "Jasoooo's address is not available.\n",
      "press any key to exit!2\n"
     ]
    },
    {
     "data": {
      "text/plain": [
       "'2'"
      ]
     },
     "execution_count": 13,
     "metadata": {},
     "output_type": "execute_result"
    }
   ],
   "source": [
    "#如果请求不是p或者a，则使用get()提供的默认值\n",
    "if request != 'p' and request != 'a' or name not in people: #or name not in people\n",
    "    print  (\"{}'s {} is {}.\".format(name,label,result))\n",
    "    \n",
    "#如果请求正确，则按正常处理\n",
    "elif request == 'p' or request == 'a':\n",
    "    print(\"{}'s' {} is {}.\".format(name, labels[key], people[name][key]))\n",
    "input(\"press any key to exit!\")"
   ]
  },
  {
   "cell_type": "code",
   "execution_count": 54,
   "metadata": {},
   "outputs": [],
   "source": [
    "# ### 停止程序运行\n",
    "# import sys\n",
    "# sys.exit(0)\n",
    "\n",
    "# raise SystemExit\n",
    "\n",
    "# quit()\n",
    "\n",
    "#ctrl+C\n"
   ]
  },
  {
   "cell_type": "code",
   "execution_count": 15,
   "metadata": {},
   "outputs": [],
   "source": [
    "# exit()"
   ]
  },
  {
   "cell_type": "markdown",
   "metadata": {},
   "source": [
    "## has_key——检查字典中是否含有给出的键。表达式dict.has_key(k)相当于 表达式key  in  dict。注意在python3.0中不包含这个函数了。"
   ]
  },
  {
   "cell_type": "code",
   "execution_count": 16,
   "metadata": {},
   "outputs": [
    {
     "data": {
      "text/plain": [
       "False"
      ]
     },
     "execution_count": 16,
     "metadata": {},
     "output_type": "execute_result"
    }
   ],
   "source": [
    "d={}\n",
    "# d.has_key('name')'\n",
    "'name' in d.keys()  ## has_key 变成 in  keylist, 注意有关2\n"
   ]
  },
  {
   "cell_type": "code",
   "execution_count": null,
   "metadata": {},
   "outputs": [],
   "source": [
    ">>> d['name']='Jzhou'\n",
    ">>> d.has_key('name')\n",
    "True"
   ]
  },
  {
   "cell_type": "markdown",
   "metadata": {},
   "source": [
    "# Also, the dict.iterkeys(), dict.iteritems() and dict.itervalues() methods are no longer supported."
   ]
  },
  {
   "cell_type": "markdown",
   "metadata": {},
   "source": [
    "##  items和iteritems——items方法将所有字典项以列表方式返回，这些列表项中的每一项都来自于（键、值），但是在项返回时并没有特殊顺序。"
   ]
  },
  {
   "cell_type": "code",
   "execution_count": 18,
   "metadata": {},
   "outputs": [
    {
     "data": {
      "text/plain": [
       "dict_items([('title', 'python'), ('url', 'http://www.python.org')])"
      ]
     },
     "execution_count": 18,
     "metadata": {},
     "output_type": "execute_result"
    }
   ],
   "source": [
    ">>> d={'title':'python','url':'http://www.python.org'}\n",
    ">>> d.items () #没有特殊顺序"
   ]
  },
  {
   "cell_type": "code",
   "execution_count": 23,
   "metadata": {},
   "outputs": [],
   "source": [
    "# #iteritems作用大致一样，但是会返回一个迭代器对象而不是列表   ## Python3 removed this function\n",
    "# it=d.iteritems () \n",
    "# it\n",
    "# ##list(it)  #将iterator转换为列表"
   ]
  },
  {
   "cell_type": "markdown",
   "metadata": {},
   "source": [
    "## keys和iterkeys——keys方法将字典中的键以列表的形式返回，而iterkeys是返回针对键的迭代器"
   ]
  },
  {
   "cell_type": "code",
   "execution_count": 24,
   "metadata": {},
   "outputs": [
    {
     "data": {
      "text/plain": [
       "dict_keys(['title', 'url'])"
      ]
     },
     "execution_count": 24,
     "metadata": {},
     "output_type": "execute_result"
    }
   ],
   "source": [
    "d.keys()  ##The view objects returned by d.keys() in Python 3 are iterable (i.e. an iterator can be made from them) "
   ]
  },
  {
   "cell_type": "code",
   "execution_count": 27,
   "metadata": {},
   "outputs": [
    {
     "data": {
      "text/plain": [
       "['title', 'url']"
      ]
     },
     "execution_count": 27,
     "metadata": {},
     "output_type": "execute_result"
    }
   ],
   "source": [
    "##so when you say for k in d.keys() Python will create the iterator for you. \n",
    "##Therefore your two examples will behave the same.\n",
    "[k for k in d.keys()] "
   ]
  },
  {
   "cell_type": "markdown",
   "metadata": {},
   "source": [
    "## values和itervalues——values方法以列表的形式返回字典中的值，itervalues返回值的迭代器。与返回键的列表不同的是，返回值的列表中可以包含重复的元素"
   ]
  },
  {
   "cell_type": "code",
   "execution_count": 28,
   "metadata": {},
   "outputs": [
    {
     "data": {
      "text/plain": [
       "dict_values([1, 2, 3, 1])"
      ]
     },
     "execution_count": 28,
     "metadata": {},
     "output_type": "execute_result"
    }
   ],
   "source": [
    ">>> d={}\n",
    ">>> d[1]=1\n",
    ">>> d[2]=2\n",
    ">>> d[3]=3\n",
    ">>> d[4]=1\n",
    ">>> d.values()\n"
   ]
  },
  {
   "cell_type": "markdown",
   "metadata": {},
   "source": [
    "## pop——获得对应于给定键的值，然后将这个键值对从字典中移除"
   ]
  },
  {
   "cell_type": "code",
   "execution_count": 32,
   "metadata": {},
   "outputs": [
    {
     "data": {
      "text/plain": [
       "1"
      ]
     },
     "execution_count": 32,
     "metadata": {},
     "output_type": "execute_result"
    }
   ],
   "source": [
    "d={'x':1,'y':2}\n",
    "d.pop('x')  ## 移除键为x的一组对象\n"
   ]
  },
  {
   "cell_type": "code",
   "execution_count": 33,
   "metadata": {},
   "outputs": [
    {
     "data": {
      "text/plain": [
       "{'y': 2}"
      ]
     },
     "execution_count": 33,
     "metadata": {},
     "output_type": "execute_result"
    }
   ],
   "source": [
    "d"
   ]
  },
  {
   "cell_type": "markdown",
   "metadata": {},
   "source": [
    "## popitem——类似list.pop，后者会弹出列表的最后一个元素，但不同的是，popitem弹出的是随机的项，因为字典是无序的。若想一个接一个的移除并处理项，这个方法非常有效，因为不用先获取键的列表"
   ]
  },
  {
   "cell_type": "code",
   "execution_count": 34,
   "metadata": {},
   "outputs": [
    {
     "data": {
      "text/plain": [
       "{'title': 'python', 'url': 'http://www.python.org', 'spam': 0}"
      ]
     },
     "execution_count": 34,
     "metadata": {},
     "output_type": "execute_result"
    }
   ],
   "source": [
    ">>> d={'title':'python','url':'http://www.python.org','spam':0}\n",
    ">>> d"
   ]
  },
  {
   "cell_type": "code",
   "execution_count": 35,
   "metadata": {},
   "outputs": [
    {
     "data": {
      "text/plain": [
       "('spam', 0)"
      ]
     },
     "execution_count": 35,
     "metadata": {},
     "output_type": "execute_result"
    }
   ],
   "source": [
    ">>> d.popitem()"
   ]
  },
  {
   "cell_type": "code",
   "execution_count": 37,
   "metadata": {},
   "outputs": [
    {
     "data": {
      "text/plain": [
       "{'title': 'python', 'url': 'http://www.python.org'}"
      ]
     },
     "execution_count": 37,
     "metadata": {},
     "output_type": "execute_result"
    }
   ],
   "source": [
    ">>> d"
   ]
  },
  {
   "cell_type": "code",
   "execution_count": 38,
   "metadata": {},
   "outputs": [
    {
     "data": {
      "text/plain": [
       "('url', 'http://www.python.org')"
      ]
     },
     "execution_count": 38,
     "metadata": {},
     "output_type": "execute_result"
    }
   ],
   "source": [
    ">>> d.popitem()"
   ]
  },
  {
   "cell_type": "code",
   "execution_count": 39,
   "metadata": {},
   "outputs": [
    {
     "data": {
      "text/plain": [
       "{'title': 'python'}"
      ]
     },
     "execution_count": 39,
     "metadata": {},
     "output_type": "execute_result"
    }
   ],
   "source": [
    "d"
   ]
  },
  {
   "cell_type": "markdown",
   "metadata": {},
   "source": [
    "尽管popitem和列表的pop方法很类似，但字典中并没有与append等价的方法，因为字典是无序的，无“追加至最后”可言。"
   ]
  },
  {
   "cell_type": "markdown",
   "metadata": {},
   "source": [
    "##   setdefault——获得与给定键相关联的值，类似get()方法，另外，它还能在字典中不含有给定键的情况下设定相应的键值"
   ]
  },
  {
   "cell_type": "code",
   "execution_count": 40,
   "metadata": {},
   "outputs": [
    {
     "data": {
      "text/plain": [
       "'N/A'"
      ]
     },
     "execution_count": 40,
     "metadata": {},
     "output_type": "execute_result"
    }
   ],
   "source": [
    ">>> d={}\n",
    ">>> d.setdefault('name','N/A') #它还能在字典中不含有给定键的情况下设定相应的键值\n"
   ]
  },
  {
   "cell_type": "code",
   "execution_count": 41,
   "metadata": {},
   "outputs": [
    {
     "data": {
      "text/plain": [
       "{'name': 'N/A'}"
      ]
     },
     "execution_count": 41,
     "metadata": {},
     "output_type": "execute_result"
    }
   ],
   "source": [
    ">>> d"
   ]
  },
  {
   "cell_type": "code",
   "execution_count": 44,
   "metadata": {},
   "outputs": [
    {
     "data": {
      "text/plain": [
       "'Jzhou'"
      ]
     },
     "execution_count": 44,
     "metadata": {},
     "output_type": "execute_result"
    }
   ],
   "source": [
    ">>> d['name']='Jzhou' #赋值的是name的值  不是键名\n",
    ">>> d.setdefault('name','N/A')"
   ]
  },
  {
   "cell_type": "code",
   "execution_count": 45,
   "metadata": {},
   "outputs": [
    {
     "data": {
      "text/plain": [
       "{'name': 'Jzhou'}"
      ]
     },
     "execution_count": 45,
     "metadata": {},
     "output_type": "execute_result"
    }
   ],
   "source": [
    ">>> d"
   ]
  },
  {
   "cell_type": "markdown",
   "metadata": {},
   "source": [
    "可以看出，当键不存在的时候，setdefault返回默认值并且相应的更新字典。如果键存在，那么就返回与其对应的值，但不改变字典。默认值可选，如果不写，默认为None"
   ]
  },
  {
   "cell_type": "code",
   "execution_count": 48,
   "metadata": {},
   "outputs": [
    {
     "name": "stdout",
     "output_type": "stream",
     "text": [
      "None\n"
     ]
    }
   ],
   "source": [
    ">>> d={}\n",
    ">>> print (d.setdefault('name')) #当键不存在的时候，setdefault返回默认值并且相应的更新字典"
   ]
  },
  {
   "cell_type": "code",
   "execution_count": 47,
   "metadata": {},
   "outputs": [
    {
     "data": {
      "text/plain": [
       "{'name': 'Jzhou'}"
      ]
     },
     "execution_count": 47,
     "metadata": {},
     "output_type": "execute_result"
    }
   ],
   "source": [
    ">>> d"
   ]
  },
  {
   "cell_type": "markdown",
   "metadata": {},
   "source": [
    "## update——利用一个字典更新另外一个字典"
   ]
  },
  {
   "cell_type": "code",
   "execution_count": 50,
   "metadata": {},
   "outputs": [
    {
     "data": {
      "text/plain": [
       "{'title': 'Python web site',\n",
       " 'url': 'http://www.python.org',\n",
       " 'changed': 'April 4 20:18 2013'}"
      ]
     },
     "execution_count": 50,
     "metadata": {},
     "output_type": "execute_result"
    }
   ],
   "source": [
    ">>> d={\n",
    "    'title':'Python web site',\n",
    "    'url':'http://www.python.org',\n",
    "    'changed':'April 4 20:18 2013'\n",
    "    }\n",
    "d"
   ]
  },
  {
   "cell_type": "code",
   "execution_count": 51,
   "metadata": {},
   "outputs": [
    {
     "data": {
      "text/plain": [
       "{'title': 'Python Language Website'}"
      ]
     },
     "execution_count": 51,
     "metadata": {},
     "output_type": "execute_result"
    }
   ],
   "source": [
    ">>> x={'title':'Python Language Website'}\n",
    "x"
   ]
  },
  {
   "cell_type": "code",
   "execution_count": 52,
   "metadata": {},
   "outputs": [],
   "source": [
    ">>> d.update(x) #提供的字典中的项会被添加到旧的字典中，若有相同的键则会进行覆盖\n"
   ]
  },
  {
   "cell_type": "code",
   "execution_count": 53,
   "metadata": {},
   "outputs": [
    {
     "data": {
      "text/plain": [
       "{'url': 'http://www.python.org',\n",
       " 'changed': 'April 4 20:18 2013',\n",
       " 'title': 'Python Language Website'}"
      ]
     },
     "execution_count": 53,
     "metadata": {},
     "output_type": "execute_result"
    }
   ],
   "source": [
    ">>> d  #  d中与x相同的键'title':'Python web site',被覆盖更新\n",
    "{'url': 'http://www.python.org', 'changed': 'April 4 20:18 2013', 'title': 'Python Language Website'}"
   ]
  },
  {
   "cell_type": "code",
   "execution_count": null,
   "metadata": {},
   "outputs": [],
   "source": []
  }
 ],
 "metadata": {
  "kernelspec": {
   "display_name": "Python 3",
   "language": "python",
   "name": "python3"
  },
  "language_info": {
   "codemirror_mode": {
    "name": "ipython",
    "version": 3
   },
   "file_extension": ".py",
   "mimetype": "text/x-python",
   "name": "python",
   "nbconvert_exporter": "python",
   "pygments_lexer": "ipython3",
   "version": "3.7.0"
  }
 },
 "nbformat": 4,
 "nbformat_minor": 2
}
